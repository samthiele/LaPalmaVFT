{
 "cells": [
  {
   "cell_type": "code",
   "execution_count": null,
   "metadata": {},
   "outputs": [],
   "source": [
    "import rockhopper # rockhopper can be installed with: `pip install git+https://github.com/samthiele/rockhopper.git``\n",
    "from rockhopper import VFT\n",
    "\n",
    "# update RockHopper UI files (to pull changes if javascript front-end has been rebuilt)\n",
    "#rockhopper.ui.ingest('/Users/thiele67/Documents/Python/rockhopper/build') # TODO - delete this once stabilised"
   ]
  },
  {
   "cell_type": "markdown",
   "metadata": {},
   "source": [
    "### Create VFT\n",
    "\n",
    "Create a new VFT directory or, if it already exists, load it (nothing important will be overwritten).\n",
    "\n",
    "We also specify a directory to create streamable point clouds. This is where any point cloud data will be stored during VFT development. Once the trip is finished, these files should be uploaded onto a web server so they are publically accessible."
   ]
  },
  {
   "cell_type": "code",
   "execution_count": 3,
   "metadata": {},
   "outputs": [],
   "source": [
    "\n",
    "vft = VFT( vft_path='/Users/thiele67/Documents/data/LaPalma/LaPalmaVFT', # path where our VFT files will be stored\n",
    "           cloud_path='/Users/thiele67/Documents/data/LaPalma/Streams', # path where our cloud files are stored\n",
    "           overwrite=True) # update javscript and HTML front-end files. Only needed if javascript front-end has been rebuilt."
   ]
  },
  {
   "cell_type": "code",
   "execution_count": 4,
   "metadata": {},
   "outputs": [
    {
     "name": "stdout",
     "output_type": "stream",
     "text": [
      "Development server started at http://127.0.0.1:4002\n"
     ]
    }
   ],
   "source": [
    "# start a development server -- once we have added some data and sites, the following link will take us to our VFT :-) \n",
    "# (what's more, the server will automatically change edits we make to the markdown files!)\n",
    "vft.start()"
   ]
  },
  {
   "cell_type": "markdown",
   "metadata": {},
   "source": [
    "This VFT will be translated into three languages, and contain \"global\" (visible at all sites in the trip) Notes and References pages."
   ]
  },
  {
   "cell_type": "code",
   "execution_count": 5,
   "metadata": {},
   "outputs": [],
   "source": [
    "vft.setLanguages([\"en\", \"es\", \"de\"]) # three languages in this vft\n",
    "vft.addTab(\"Notes\", site=None) # create a global Notes tab. This tab is a bit special, as it remains editable even after deployment\n",
    "                               # (for users to take notes in and to view structural measurements they create).\n",
    "vft.addTab(\"References\", site=None) # add a global References tab containing further reading and general information."
   ]
  },
  {
   "cell_type": "markdown",
   "metadata": {},
   "source": [
    "### Start page\n",
    "\n",
    "Our VFT will start with a 3D point cloud containing a map of La Palma. First, we need to load this point cloud and convert it to the streamable zarr format. \n",
    "\n",
    "In the process, we also define the stylesheet and groups that determine how it will be visualised. Specifically, we define that it will have two sets of colours (true-colour RGB, and a geological map colour set) and groups that highlight the main topographic elements on the island in yellow."
   ]
  },
  {
   "cell_type": "code",
   "execution_count": null,
   "metadata": {},
   "outputs": [],
   "source": [
    "# N.B. this code only needs to be run once, or when the point cloud is updated\n",
    "update_clouds = False # make True to update point clouds \n",
    "if update_clouds:\n",
    "    # define a style that allows both satellite (bands 3,4,5) and geology (bands 6,7,8)\n",
    "    stylesheet = { 'rgb':{'color':{'R':(3,0,1), # satellite RGB \n",
    "                                'G':(4,0,1),\n",
    "                                'B':(5,0,1)} },\n",
    "                'geology':{'color':{'R':(6,0,255), # geology map\n",
    "                                    'G':(7,0,255),\n",
    "                                    'B':(8,0,255)}},\n",
    "                }\n",
    "\n",
    "    # define groups that will be displayed to highlight different areas of the point cloud\n",
    "    # (based on the value of the 9th band)\n",
    "    groups = {\n",
    "        \"Bco. de las Angustias\": {\n",
    "            \"blend\": 0.3,\n",
    "            \"color\": [ 1,  1, 0 ],\n",
    "            \"iq\": [ 9, \"=\", 1 ]\n",
    "        },\n",
    "        \"Caldera Taburiente\": {\n",
    "            \"blend\": 0.3,\n",
    "            \"color\": [ 1, 1, 0 ],\n",
    "            \"iq\": [ 9, \"=\", 0 ]\n",
    "        },\n",
    "        \"Bejenado\": {\n",
    "            \"blend\": 0.3,\n",
    "            \"color\": [ 1, 1, 0 ],\n",
    "            \"iq\": [ 9, \"=\", 2 ]\n",
    "        },\n",
    "        \"Cumbre Nueva\": {\n",
    "            \"blend\": 0.3,\n",
    "            \"color\": [ 1, 1, 0 ],\n",
    "            \"iq\": [ 9, \"=\", 3 ]\n",
    "        },\n",
    "        \"Cumbre Veija\": {\n",
    "            \"blend\": 0.3,\n",
    "            \"color\": [ 1, 1, 0 ],\n",
    "            \"iq\": [ 9, \"=\", 6 ]\n",
    "        },\n",
    "        \"Tajogaite\": {\n",
    "            \"blend\": 0.3,\n",
    "            \"color\": [ 1, 1, 0 ],\n",
    "            \"iq\": [ 9, \"=\", 4 ]\n",
    "        },\n",
    "    }\n",
    "\n",
    "    # convert a PLY point cloud to a streamable format and add it to our tour\n",
    "    vft.addCloud( 'start',  # site name\n",
    "                 'LaPalma', # Cloud stream name\n",
    "                '/Users/thiele67/Documents/data/LaPalma/Clouds/LaPalma_2z_post.ply',\n",
    "                resolution=30, stylesheet=stylesheet, groups=groups )\n",
    "\n",
    "    view = {\n",
    "        \"style\": \"geology\", # show the cloud's \"geology\" style by default, rather than the \"rgb\" one.\n",
    "        \"pos\": [ 2392, 543, 30332 ], # predefine camera position. Note that this can be done using the GUI using the \"Save View\" button.\n",
    "        \"tgt\": [ 2392, 543, -1871] # predefine camera view target. Note that this can be done using the GUI using the \"Save View\" button.\n",
    "      }"
   ]
  },
  {
   "cell_type": "markdown",
   "metadata": {},
   "source": [
    "We'll also create a \"Guide\" tab for the first site. This will create the relevant markdown (.md) files, for editing either directly (using e.g., notepad) or via our development server."
   ]
  },
  {
   "cell_type": "code",
   "execution_count": null,
   "metadata": {},
   "outputs": [],
   "source": [
    "# add Guide tab to Overview site\n",
    "vft.addTab(\"Guide\", site='start') # add a global about tab"
   ]
  },
  {
   "cell_type": "markdown",
   "metadata": {},
   "source": [
    "This dataset (a point cloud showing the whole of La Palma) will be used for a second site that explains the regional geology. We create this in the following."
   ]
  },
  {
   "cell_type": "code",
   "execution_count": null,
   "metadata": {},
   "outputs": [],
   "source": [
    "vft.addSite(name='geology', mediaURL='LaPalma.zarr', mediaType='cloud', view = view) # create the new site, but using the old dataset\n",
    "vft.addTab(\"Guide\", \"geology\") # this site will also have it's own dedicated Guide tab\n",
    "vft.addTab(\"Questions\", site='geology') # and a site for some thought provoking questions"
   ]
  },
  {
   "cell_type": "markdown",
   "metadata": {},
   "source": [
    "As above, we also convert the point clouds for the other areas in the VFT."
   ]
  },
  {
   "cell_type": "code",
   "execution_count": null,
   "metadata": {},
   "outputs": [
    {
     "name": "stdout",
     "output_type": "stream",
     "text": [
      "Building stream with shape (15090671, 7)\n"
     ]
    },
    {
     "name": "stderr",
     "output_type": "stream",
     "text": [
      "                                                                               \r"
     ]
    }
   ],
   "source": [
    "# N.B. this code only needs to be run once, or when the point cloud is updated\n",
    "update_clouds = False # make True to update point clouds \n",
    "if update_clouds:\n",
    "    # define a style that allows both satellite (bands 3,4,5) and geology (bands 6,7,8)\n",
    "    stylesheet = { 'rgb':{'color':{'R':(3,0,1), # satellite RGB \n",
    "                                'G':(4,0,1),\n",
    "                                'B':(5,0,1)} }\n",
    "                }\n",
    "\n",
    "    # define groups that will be displayed to highlight different areas of the point cloud\n",
    "    # (based on the value of the 9th band)\n",
    "    groups = {\n",
    "        \"dykes\": {\n",
    "            \"blend\": 0.3,\n",
    "            \"color\": [ 1,  1, 0 ],\n",
    "            \"iq\": [ 6, \"=\", 1 ]\n",
    "        },\n",
    "        \"sills\": {\n",
    "            \"blend\": 0.3,\n",
    "            \"color\": [ 1,  1, 0 ],\n",
    "            \"iq\": [ 6, \"=\", 2 ]\n",
    "        },\n",
    "    }\n",
    "\n",
    "    # convert a PLY point cloud to a streamable format and add it to our tour\n",
    "    vft.addCloud( 'hoyoverdecliff', 'HoyoVerdeCliff',\n",
    "                '/Users/thiele67/Documents/data/LaPalma/Clouds/HoyoVerdeCliff_2cm_segmented_5cm.ply',\n",
    "                resolution=0.1, stylesheet=stylesheet, groups=groups )\n",
    "    vft.addTab(\"Guide\", \"hoyoverdecliff\") # this site will also have it's own dedicated Guide tab\n",
    "    vft.addTab(\"Questions\", site='hoyoverdecliff') # and a site for some thought provoking questions"
   ]
  },
  {
   "cell_type": "code",
   "execution_count": null,
   "metadata": {},
   "outputs": [
    {
     "name": "stdout",
     "output_type": "stream",
     "text": [
      "Building stream with shape (15244130, 7)\n"
     ]
    },
    {
     "name": "stderr",
     "output_type": "stream",
     "text": [
      "                                                                               \r"
     ]
    }
   ],
   "source": [
    "# N.B. this code only needs to be run once, or when the point cloud is updated\n",
    "update_clouds = False # make True to update point clouds \n",
    "if update_clouds:\n",
    "    # define a style that allows both satellite (bands 3,4,5) and geology (bands 6,7,8)\n",
    "    stylesheet = { 'rgb':{'color':{'R':(3,0,1), # satellite RGB \n",
    "                                'G':(4,0,1),\n",
    "                                'B':(5,0,1)} }\n",
    "                }\n",
    "\n",
    "    # define groups that will be displayed to highlight different areas of the point cloud\n",
    "    # (based on the value of the 9th band)\n",
    "    groups = {\n",
    "        \"dykes\": {\n",
    "            \"blend\": 0.3,\n",
    "            \"color\": [ 1,  1, 0 ],\n",
    "            \"iq\": [ 6, \"=\", 3 ]\n",
    "        },\n",
    "        \"palagonite tuff\": {\n",
    "            \"blend\": 0.3,\n",
    "            \"color\": [ 1,  1, 0 ],\n",
    "            \"iq\": [ 6, \"=\", 1 ]\n",
    "        },\n",
    "        \"basaltic tuff\": {\n",
    "            \"blend\": 0.3,\n",
    "            \"color\": [ 1,  1, 0 ],\n",
    "            \"iq\": [ 6, \"=\", 2 ]\n",
    "        },\n",
    "        \"scoria\": {\n",
    "            \"blend\": 0.3,\n",
    "            \"color\": [ 1,  1, 0 ],\n",
    "            \"iq\": [ 6, \"=\", 4 ]\n",
    "        },\n",
    "    }\n",
    "\n",
    "    # convert a PLY point cloud to a streamable format and add it to our tour\n",
    "    vft.addCloud( 'losandenes1', 'LosAndenes1',\n",
    "                '/Users/thiele67/Documents/data/LaPalma/Clouds/Los_Andenes_Sur_5cm.ply',\n",
    "                resolution=0.1, stylesheet=stylesheet, groups=groups )\n",
    "    vft.addTab(\"Guide\", \"losandenes1\") # this site will also have it's own dedicated Guide tab\n",
    "    vft.addTab(\"Questions\", site='losandenes1') # and a site for some thought provoking questions"
   ]
  },
  {
   "cell_type": "code",
   "execution_count": null,
   "metadata": {},
   "outputs": [
    {
     "name": "stdout",
     "output_type": "stream",
     "text": [
      "Building stream with shape (11124722, 6)\n"
     ]
    },
    {
     "name": "stderr",
     "output_type": "stream",
     "text": [
      "                                                                               \r"
     ]
    }
   ],
   "source": [
    "# N.B. this code only needs to be run once, or when the point cloud is updated\n",
    "update_clouds = False # make True to update point clouds \n",
    "if update_clouds:\n",
    "    # define a style that allows both satellite (bands 3,4,5) and geology (bands 6,7,8)\n",
    "    stylesheet = { 'rgb':{'color':{'R':(3,0,1), # satellite RGB \n",
    "                                'G':(4,0,1),\n",
    "                                'B':(5,0,1)} }\n",
    "                }\n",
    "\n",
    "    # convert a PLY point cloud to a streamable format and add it to our tour\n",
    "    vft.addCloud( 'taburiente', 'Taburiente',\n",
    "                '/Users/thiele67/Documents/data/LaPalma/Clouds/Caldera_1z_2m.ply',\n",
    "                resolution=4, stylesheet=stylesheet )\n",
    "    vft.addTab(\"Guide\", \"taburiente\") # this site will also have it's own dedicated Guide tab\n",
    "    vft.addTab(\"Questions\", site='taburiente') # and a site for some thought provoking questions"
   ]
  },
  {
   "cell_type": "markdown",
   "metadata": {},
   "source": [
    "### Photospheres\n",
    "\n",
    "In addition to 3D point clouds, photospheres are a great way to build an immersive VFT experience. Lets add a few :-) "
   ]
  },
  {
   "cell_type": "code",
   "execution_count": 4,
   "metadata": {},
   "outputs": [
    {
     "name": "stdout",
     "output_type": "stream",
     "text": [
      "Copying photosphere to img/muchachos/ps.jpg\n"
     ]
    }
   ],
   "source": [
    "# add a photosphere to our tour\n",
    "vft.addPhotosphere(site='muchachos', image='/Users/thiele67/Documents/data/LaPalma/Images/muchachos/equirectangular.jpg')\n",
    "vft.addTab(\"Guide\", site='muchachos') # add a \"Guide\" tab for this site too"
   ]
  },
  {
   "cell_type": "code",
   "execution_count": null,
   "metadata": {},
   "outputs": [
    {
     "name": "stdout",
     "output_type": "stream",
     "text": [
      "Copying photosphere to img/hoyonegro/ps.jpg\n"
     ]
    }
   ],
   "source": [
    "# add a photosphere to our tour\n",
    "vft.addPhotosphere(site='hoyonegro', image='/Users/thiele67/Documents/data/LaPalma/Images/hoyonegro/equirectangular.jpg')\n",
    "vft.addTab(\"Guide\", site='hoyonegro') # add a \"Guide\" tab for this site too\n"
   ]
  },
  {
   "cell_type": "code",
   "execution_count": null,
   "metadata": {},
   "outputs": [],
   "source": [
    "# add a photosphere to our tour\n",
    "vft.addPhotosphere(site='observatory', image='/Users/thiele67/Documents/data/LaPalma/Images/observatory.jpg')\n",
    "vft.addTab(\"Guide\", site='observatory') # add a \"Guide\" tab for this site too"
   ]
  },
  {
   "cell_type": "code",
   "execution_count": null,
   "metadata": {},
   "outputs": [
    {
     "name": "stdout",
     "output_type": "stream",
     "text": [
      "Copying photosphere to img/mirador/ps.jpg\n"
     ]
    }
   ],
   "source": [
    "# add a photosphere to our tour\n",
    "vft.addPhotosphere(site='mirador', image='/Users/thiele67/Documents/data/LaPalma/Images/mirador/equirectangular.jpg')\n",
    "vft.addTab(\"Guide\", site='mirador') # add a \"Guide\" tab for this site too\n",
    "vft.addTab(\"Quizz\", site='mirador') # and a site for some thought provoking questions"
   ]
  },
  {
   "cell_type": "code",
   "execution_count": null,
   "metadata": {},
   "outputs": [
    {
     "name": "stdout",
     "output_type": "stream",
     "text": [
      "Copying photosphere to img/idafe/ps.jpg\n"
     ]
    }
   ],
   "source": [
    "# add a photosphere to our tour\n",
    "vft.addPhotosphere(site='idafe', image='/Users/thiele67/Documents/data/LaPalma/Images/idafe/equirectangular.jpg')\n",
    "vft.addTab(\"Guide\", site='idafe') # add a \"Guide\" tab for this site too\n",
    "vft.addTab(\"Quizz\", site='idafe') # and a site for some thought provoking questions"
   ]
  },
  {
   "cell_type": "code",
   "execution_count": null,
   "metadata": {},
   "outputs": [],
   "source": []
  },
  {
   "cell_type": "code",
   "execution_count": null,
   "metadata": {},
   "outputs": [],
   "source": []
  },
  {
   "cell_type": "code",
   "execution_count": 8,
   "metadata": {},
   "outputs": [],
   "source": [
    "vft.stop()"
   ]
  },
  {
   "cell_type": "code",
   "execution_count": null,
   "metadata": {},
   "outputs": [
    {
     "ename": "KeyError",
     "evalue": "'site3b'",
     "output_type": "error",
     "traceback": [
      "\u001b[0;31m---------------------------------------------------------------------------\u001b[0m",
      "\u001b[0;31mKeyError\u001b[0m                                  Traceback (most recent call last)",
      "Cell \u001b[0;32mIn[6], line 1\u001b[0m\n\u001b[0;32m----> 1\u001b[0m \u001b[43mvft\u001b[49m\u001b[38;5;241;43m.\u001b[39;49m\u001b[43mindex\u001b[49m\u001b[43m[\u001b[49m\u001b[38;5;124;43m'\u001b[39;49m\u001b[38;5;124;43msites\u001b[39;49m\u001b[38;5;124;43m'\u001b[39;49m\u001b[43m]\u001b[49m\u001b[43m[\u001b[49m\u001b[38;5;124;43m'\u001b[39;49m\u001b[38;5;124;43msite3b\u001b[39;49m\u001b[38;5;124;43m'\u001b[39;49m\u001b[43m]\u001b[49m\n",
      "\u001b[0;31mKeyError\u001b[0m: 'site3b'"
     ]
    }
   ],
   "source": [
    "assert False"
   ]
  },
  {
   "cell_type": "code",
   "execution_count": 4,
   "metadata": {},
   "outputs": [
    {
     "name": "stdout",
     "output_type": "stream",
     "text": [
      "Saved equirectangular image to /Users/thiele67/Documents/data/LaPalma/Images/somada/equirectangular.jpg\n"
     ]
    }
   ],
   "source": [
    "from rockhopper.utils import equirect_to_latlon\n",
    "folder = 'somada'\n",
    "equirect_to_latlon(f'/Users/thiele67/Documents/data/LaPalma/Images/{folder}/equirectangular.jpg',\n",
    "                   *[f'/Users/thiele67/Documents/data/LaPalma/Images/{folder}/{i}.jpg' for i in range(6)])"
   ]
  },
  {
   "cell_type": "code",
   "execution_count": null,
   "metadata": {},
   "outputs": [
    {
     "data": {
      "text/plain": [
       "2048"
      ]
     },
     "execution_count": 6,
     "metadata": {},
     "output_type": "execute_result"
    }
   ],
   "source": []
  },
  {
   "cell_type": "code",
   "execution_count": null,
   "metadata": {},
   "outputs": [],
   "source": []
  }
 ],
 "metadata": {
  "kernelspec": {
   "display_name": "hylite",
   "language": "python",
   "name": "python3"
  },
  "language_info": {
   "codemirror_mode": {
    "name": "ipython",
    "version": 3
   },
   "file_extension": ".py",
   "mimetype": "text/x-python",
   "name": "python",
   "nbconvert_exporter": "python",
   "pygments_lexer": "ipython3",
   "version": "3.11.7"
  }
 },
 "nbformat": 4,
 "nbformat_minor": 2
}
